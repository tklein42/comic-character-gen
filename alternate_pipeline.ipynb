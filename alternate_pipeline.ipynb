{
  "nbformat": 4,
  "nbformat_minor": 0,
  "metadata": {
    "colab": {
      "provenance": [],
      "machine_shape": "hm",
      "gpuType": "A100"
    },
    "kernelspec": {
      "name": "python3",
      "display_name": "Python 3"
    },
    "language_info": {
      "name": "python"
    },
    "accelerator": "GPU",
    "widgets": {
      "application/vnd.jupyter.widget-state+json": {
        "87648704817d42c19762ce7f9357110c": {
          "model_module": "@jupyter-widgets/controls",
          "model_name": "HBoxModel",
          "model_module_version": "1.5.0",
          "state": {
            "_dom_classes": [],
            "_model_module": "@jupyter-widgets/controls",
            "_model_module_version": "1.5.0",
            "_model_name": "HBoxModel",
            "_view_count": null,
            "_view_module": "@jupyter-widgets/controls",
            "_view_module_version": "1.5.0",
            "_view_name": "HBoxView",
            "box_style": "",
            "children": [
              "IPY_MODEL_d92fe41277e148498128340110854176",
              "IPY_MODEL_37c17d9ed87a4993a68c72c529291317",
              "IPY_MODEL_f2de9105f6e24a44837a1a384d042436"
            ],
            "layout": "IPY_MODEL_36326a63daee47bc9bdd5f8d79da2e1f"
          }
        },
        "d92fe41277e148498128340110854176": {
          "model_module": "@jupyter-widgets/controls",
          "model_name": "HTMLModel",
          "model_module_version": "1.5.0",
          "state": {
            "_dom_classes": [],
            "_model_module": "@jupyter-widgets/controls",
            "_model_module_version": "1.5.0",
            "_model_name": "HTMLModel",
            "_view_count": null,
            "_view_module": "@jupyter-widgets/controls",
            "_view_module_version": "1.5.0",
            "_view_name": "HTMLView",
            "description": "",
            "description_tooltip": null,
            "layout": "IPY_MODEL_b37ff301ed2a4ab5b3a9d32183a684c4",
            "placeholder": "​",
            "style": "IPY_MODEL_842799a0f0e1460d9f4002e696953132",
            "value": "100%"
          }
        },
        "37c17d9ed87a4993a68c72c529291317": {
          "model_module": "@jupyter-widgets/controls",
          "model_name": "FloatProgressModel",
          "model_module_version": "1.5.0",
          "state": {
            "_dom_classes": [],
            "_model_module": "@jupyter-widgets/controls",
            "_model_module_version": "1.5.0",
            "_model_name": "FloatProgressModel",
            "_view_count": null,
            "_view_module": "@jupyter-widgets/controls",
            "_view_module_version": "1.5.0",
            "_view_name": "ProgressView",
            "bar_style": "success",
            "description": "",
            "description_tooltip": null,
            "layout": "IPY_MODEL_4a338f2110ac4f739438013e863abf20",
            "max": 75,
            "min": 0,
            "orientation": "horizontal",
            "style": "IPY_MODEL_e067ac327e0047fdab221a81af6614b6",
            "value": 75
          }
        },
        "f2de9105f6e24a44837a1a384d042436": {
          "model_module": "@jupyter-widgets/controls",
          "model_name": "HTMLModel",
          "model_module_version": "1.5.0",
          "state": {
            "_dom_classes": [],
            "_model_module": "@jupyter-widgets/controls",
            "_model_module_version": "1.5.0",
            "_model_name": "HTMLModel",
            "_view_count": null,
            "_view_module": "@jupyter-widgets/controls",
            "_view_module_version": "1.5.0",
            "_view_name": "HTMLView",
            "description": "",
            "description_tooltip": null,
            "layout": "IPY_MODEL_5729383ac7724803911f2a7176a6c1e1",
            "placeholder": "​",
            "style": "IPY_MODEL_b4318b0a258d4f1d809a5a203a7bf1e4",
            "value": " 75/75 [00:24&lt;00:00,  3.11it/s]"
          }
        },
        "36326a63daee47bc9bdd5f8d79da2e1f": {
          "model_module": "@jupyter-widgets/base",
          "model_name": "LayoutModel",
          "model_module_version": "1.2.0",
          "state": {
            "_model_module": "@jupyter-widgets/base",
            "_model_module_version": "1.2.0",
            "_model_name": "LayoutModel",
            "_view_count": null,
            "_view_module": "@jupyter-widgets/base",
            "_view_module_version": "1.2.0",
            "_view_name": "LayoutView",
            "align_content": null,
            "align_items": null,
            "align_self": null,
            "border": null,
            "bottom": null,
            "display": null,
            "flex": null,
            "flex_flow": null,
            "grid_area": null,
            "grid_auto_columns": null,
            "grid_auto_flow": null,
            "grid_auto_rows": null,
            "grid_column": null,
            "grid_gap": null,
            "grid_row": null,
            "grid_template_areas": null,
            "grid_template_columns": null,
            "grid_template_rows": null,
            "height": null,
            "justify_content": null,
            "justify_items": null,
            "left": null,
            "margin": null,
            "max_height": null,
            "max_width": null,
            "min_height": null,
            "min_width": null,
            "object_fit": null,
            "object_position": null,
            "order": null,
            "overflow": null,
            "overflow_x": null,
            "overflow_y": null,
            "padding": null,
            "right": null,
            "top": null,
            "visibility": null,
            "width": null
          }
        },
        "b37ff301ed2a4ab5b3a9d32183a684c4": {
          "model_module": "@jupyter-widgets/base",
          "model_name": "LayoutModel",
          "model_module_version": "1.2.0",
          "state": {
            "_model_module": "@jupyter-widgets/base",
            "_model_module_version": "1.2.0",
            "_model_name": "LayoutModel",
            "_view_count": null,
            "_view_module": "@jupyter-widgets/base",
            "_view_module_version": "1.2.0",
            "_view_name": "LayoutView",
            "align_content": null,
            "align_items": null,
            "align_self": null,
            "border": null,
            "bottom": null,
            "display": null,
            "flex": null,
            "flex_flow": null,
            "grid_area": null,
            "grid_auto_columns": null,
            "grid_auto_flow": null,
            "grid_auto_rows": null,
            "grid_column": null,
            "grid_gap": null,
            "grid_row": null,
            "grid_template_areas": null,
            "grid_template_columns": null,
            "grid_template_rows": null,
            "height": null,
            "justify_content": null,
            "justify_items": null,
            "left": null,
            "margin": null,
            "max_height": null,
            "max_width": null,
            "min_height": null,
            "min_width": null,
            "object_fit": null,
            "object_position": null,
            "order": null,
            "overflow": null,
            "overflow_x": null,
            "overflow_y": null,
            "padding": null,
            "right": null,
            "top": null,
            "visibility": null,
            "width": null
          }
        },
        "842799a0f0e1460d9f4002e696953132": {
          "model_module": "@jupyter-widgets/controls",
          "model_name": "DescriptionStyleModel",
          "model_module_version": "1.5.0",
          "state": {
            "_model_module": "@jupyter-widgets/controls",
            "_model_module_version": "1.5.0",
            "_model_name": "DescriptionStyleModel",
            "_view_count": null,
            "_view_module": "@jupyter-widgets/base",
            "_view_module_version": "1.2.0",
            "_view_name": "StyleView",
            "description_width": ""
          }
        },
        "4a338f2110ac4f739438013e863abf20": {
          "model_module": "@jupyter-widgets/base",
          "model_name": "LayoutModel",
          "model_module_version": "1.2.0",
          "state": {
            "_model_module": "@jupyter-widgets/base",
            "_model_module_version": "1.2.0",
            "_model_name": "LayoutModel",
            "_view_count": null,
            "_view_module": "@jupyter-widgets/base",
            "_view_module_version": "1.2.0",
            "_view_name": "LayoutView",
            "align_content": null,
            "align_items": null,
            "align_self": null,
            "border": null,
            "bottom": null,
            "display": null,
            "flex": null,
            "flex_flow": null,
            "grid_area": null,
            "grid_auto_columns": null,
            "grid_auto_flow": null,
            "grid_auto_rows": null,
            "grid_column": null,
            "grid_gap": null,
            "grid_row": null,
            "grid_template_areas": null,
            "grid_template_columns": null,
            "grid_template_rows": null,
            "height": null,
            "justify_content": null,
            "justify_items": null,
            "left": null,
            "margin": null,
            "max_height": null,
            "max_width": null,
            "min_height": null,
            "min_width": null,
            "object_fit": null,
            "object_position": null,
            "order": null,
            "overflow": null,
            "overflow_x": null,
            "overflow_y": null,
            "padding": null,
            "right": null,
            "top": null,
            "visibility": null,
            "width": null
          }
        },
        "e067ac327e0047fdab221a81af6614b6": {
          "model_module": "@jupyter-widgets/controls",
          "model_name": "ProgressStyleModel",
          "model_module_version": "1.5.0",
          "state": {
            "_model_module": "@jupyter-widgets/controls",
            "_model_module_version": "1.5.0",
            "_model_name": "ProgressStyleModel",
            "_view_count": null,
            "_view_module": "@jupyter-widgets/base",
            "_view_module_version": "1.2.0",
            "_view_name": "StyleView",
            "bar_color": null,
            "description_width": ""
          }
        },
        "5729383ac7724803911f2a7176a6c1e1": {
          "model_module": "@jupyter-widgets/base",
          "model_name": "LayoutModel",
          "model_module_version": "1.2.0",
          "state": {
            "_model_module": "@jupyter-widgets/base",
            "_model_module_version": "1.2.0",
            "_model_name": "LayoutModel",
            "_view_count": null,
            "_view_module": "@jupyter-widgets/base",
            "_view_module_version": "1.2.0",
            "_view_name": "LayoutView",
            "align_content": null,
            "align_items": null,
            "align_self": null,
            "border": null,
            "bottom": null,
            "display": null,
            "flex": null,
            "flex_flow": null,
            "grid_area": null,
            "grid_auto_columns": null,
            "grid_auto_flow": null,
            "grid_auto_rows": null,
            "grid_column": null,
            "grid_gap": null,
            "grid_row": null,
            "grid_template_areas": null,
            "grid_template_columns": null,
            "grid_template_rows": null,
            "height": null,
            "justify_content": null,
            "justify_items": null,
            "left": null,
            "margin": null,
            "max_height": null,
            "max_width": null,
            "min_height": null,
            "min_width": null,
            "object_fit": null,
            "object_position": null,
            "order": null,
            "overflow": null,
            "overflow_x": null,
            "overflow_y": null,
            "padding": null,
            "right": null,
            "top": null,
            "visibility": null,
            "width": null
          }
        },
        "b4318b0a258d4f1d809a5a203a7bf1e4": {
          "model_module": "@jupyter-widgets/controls",
          "model_name": "DescriptionStyleModel",
          "model_module_version": "1.5.0",
          "state": {
            "_model_module": "@jupyter-widgets/controls",
            "_model_module_version": "1.5.0",
            "_model_name": "DescriptionStyleModel",
            "_view_count": null,
            "_view_module": "@jupyter-widgets/base",
            "_view_module_version": "1.2.0",
            "_view_name": "StyleView",
            "description_width": ""
          }
        },
        "69b58129696c4f65acdc20f778d68699": {
          "model_module": "@jupyter-widgets/controls",
          "model_name": "HBoxModel",
          "model_module_version": "1.5.0",
          "state": {
            "_dom_classes": [],
            "_model_module": "@jupyter-widgets/controls",
            "_model_module_version": "1.5.0",
            "_model_name": "HBoxModel",
            "_view_count": null,
            "_view_module": "@jupyter-widgets/controls",
            "_view_module_version": "1.5.0",
            "_view_name": "HBoxView",
            "box_style": "",
            "children": [
              "IPY_MODEL_121ec87f94ad4bad81e4b2c940334fe2",
              "IPY_MODEL_be9a30bf84354f56a43298db1a51ce7b",
              "IPY_MODEL_fafa74d0cb0e4c14a51e87c16e80bc7c"
            ],
            "layout": "IPY_MODEL_1e3d4bfe0e1e4e49a612887b03e2a2cd"
          }
        },
        "121ec87f94ad4bad81e4b2c940334fe2": {
          "model_module": "@jupyter-widgets/controls",
          "model_name": "HTMLModel",
          "model_module_version": "1.5.0",
          "state": {
            "_dom_classes": [],
            "_model_module": "@jupyter-widgets/controls",
            "_model_module_version": "1.5.0",
            "_model_name": "HTMLModel",
            "_view_count": null,
            "_view_module": "@jupyter-widgets/controls",
            "_view_module_version": "1.5.0",
            "_view_name": "HTMLView",
            "description": "",
            "description_tooltip": null,
            "layout": "IPY_MODEL_e8306cb52fb84492a46842283fa71000",
            "placeholder": "​",
            "style": "IPY_MODEL_efab893bc1cf496cb3258e58109445f2",
            "value": "Loading pipeline components...: 100%"
          }
        },
        "be9a30bf84354f56a43298db1a51ce7b": {
          "model_module": "@jupyter-widgets/controls",
          "model_name": "FloatProgressModel",
          "model_module_version": "1.5.0",
          "state": {
            "_dom_classes": [],
            "_model_module": "@jupyter-widgets/controls",
            "_model_module_version": "1.5.0",
            "_model_name": "FloatProgressModel",
            "_view_count": null,
            "_view_module": "@jupyter-widgets/controls",
            "_view_module_version": "1.5.0",
            "_view_name": "ProgressView",
            "bar_style": "success",
            "description": "",
            "description_tooltip": null,
            "layout": "IPY_MODEL_4af93ff9cd9144d984e157565504db52",
            "max": 7,
            "min": 0,
            "orientation": "horizontal",
            "style": "IPY_MODEL_27967612439449faba7e277131ca0ace",
            "value": 7
          }
        },
        "fafa74d0cb0e4c14a51e87c16e80bc7c": {
          "model_module": "@jupyter-widgets/controls",
          "model_name": "HTMLModel",
          "model_module_version": "1.5.0",
          "state": {
            "_dom_classes": [],
            "_model_module": "@jupyter-widgets/controls",
            "_model_module_version": "1.5.0",
            "_model_name": "HTMLModel",
            "_view_count": null,
            "_view_module": "@jupyter-widgets/controls",
            "_view_module_version": "1.5.0",
            "_view_name": "HTMLView",
            "description": "",
            "description_tooltip": null,
            "layout": "IPY_MODEL_4cc1a43ccf3f4781ad01557a2b2997d4",
            "placeholder": "​",
            "style": "IPY_MODEL_536bf23e17c3475d8974e2021bd69b3c",
            "value": " 7/7 [00:02&lt;00:00,  2.01it/s]"
          }
        },
        "1e3d4bfe0e1e4e49a612887b03e2a2cd": {
          "model_module": "@jupyter-widgets/base",
          "model_name": "LayoutModel",
          "model_module_version": "1.2.0",
          "state": {
            "_model_module": "@jupyter-widgets/base",
            "_model_module_version": "1.2.0",
            "_model_name": "LayoutModel",
            "_view_count": null,
            "_view_module": "@jupyter-widgets/base",
            "_view_module_version": "1.2.0",
            "_view_name": "LayoutView",
            "align_content": null,
            "align_items": null,
            "align_self": null,
            "border": null,
            "bottom": null,
            "display": null,
            "flex": null,
            "flex_flow": null,
            "grid_area": null,
            "grid_auto_columns": null,
            "grid_auto_flow": null,
            "grid_auto_rows": null,
            "grid_column": null,
            "grid_gap": null,
            "grid_row": null,
            "grid_template_areas": null,
            "grid_template_columns": null,
            "grid_template_rows": null,
            "height": null,
            "justify_content": null,
            "justify_items": null,
            "left": null,
            "margin": null,
            "max_height": null,
            "max_width": null,
            "min_height": null,
            "min_width": null,
            "object_fit": null,
            "object_position": null,
            "order": null,
            "overflow": null,
            "overflow_x": null,
            "overflow_y": null,
            "padding": null,
            "right": null,
            "top": null,
            "visibility": null,
            "width": null
          }
        },
        "e8306cb52fb84492a46842283fa71000": {
          "model_module": "@jupyter-widgets/base",
          "model_name": "LayoutModel",
          "model_module_version": "1.2.0",
          "state": {
            "_model_module": "@jupyter-widgets/base",
            "_model_module_version": "1.2.0",
            "_model_name": "LayoutModel",
            "_view_count": null,
            "_view_module": "@jupyter-widgets/base",
            "_view_module_version": "1.2.0",
            "_view_name": "LayoutView",
            "align_content": null,
            "align_items": null,
            "align_self": null,
            "border": null,
            "bottom": null,
            "display": null,
            "flex": null,
            "flex_flow": null,
            "grid_area": null,
            "grid_auto_columns": null,
            "grid_auto_flow": null,
            "grid_auto_rows": null,
            "grid_column": null,
            "grid_gap": null,
            "grid_row": null,
            "grid_template_areas": null,
            "grid_template_columns": null,
            "grid_template_rows": null,
            "height": null,
            "justify_content": null,
            "justify_items": null,
            "left": null,
            "margin": null,
            "max_height": null,
            "max_width": null,
            "min_height": null,
            "min_width": null,
            "object_fit": null,
            "object_position": null,
            "order": null,
            "overflow": null,
            "overflow_x": null,
            "overflow_y": null,
            "padding": null,
            "right": null,
            "top": null,
            "visibility": null,
            "width": null
          }
        },
        "efab893bc1cf496cb3258e58109445f2": {
          "model_module": "@jupyter-widgets/controls",
          "model_name": "DescriptionStyleModel",
          "model_module_version": "1.5.0",
          "state": {
            "_model_module": "@jupyter-widgets/controls",
            "_model_module_version": "1.5.0",
            "_model_name": "DescriptionStyleModel",
            "_view_count": null,
            "_view_module": "@jupyter-widgets/base",
            "_view_module_version": "1.2.0",
            "_view_name": "StyleView",
            "description_width": ""
          }
        },
        "4af93ff9cd9144d984e157565504db52": {
          "model_module": "@jupyter-widgets/base",
          "model_name": "LayoutModel",
          "model_module_version": "1.2.0",
          "state": {
            "_model_module": "@jupyter-widgets/base",
            "_model_module_version": "1.2.0",
            "_model_name": "LayoutModel",
            "_view_count": null,
            "_view_module": "@jupyter-widgets/base",
            "_view_module_version": "1.2.0",
            "_view_name": "LayoutView",
            "align_content": null,
            "align_items": null,
            "align_self": null,
            "border": null,
            "bottom": null,
            "display": null,
            "flex": null,
            "flex_flow": null,
            "grid_area": null,
            "grid_auto_columns": null,
            "grid_auto_flow": null,
            "grid_auto_rows": null,
            "grid_column": null,
            "grid_gap": null,
            "grid_row": null,
            "grid_template_areas": null,
            "grid_template_columns": null,
            "grid_template_rows": null,
            "height": null,
            "justify_content": null,
            "justify_items": null,
            "left": null,
            "margin": null,
            "max_height": null,
            "max_width": null,
            "min_height": null,
            "min_width": null,
            "object_fit": null,
            "object_position": null,
            "order": null,
            "overflow": null,
            "overflow_x": null,
            "overflow_y": null,
            "padding": null,
            "right": null,
            "top": null,
            "visibility": null,
            "width": null
          }
        },
        "27967612439449faba7e277131ca0ace": {
          "model_module": "@jupyter-widgets/controls",
          "model_name": "ProgressStyleModel",
          "model_module_version": "1.5.0",
          "state": {
            "_model_module": "@jupyter-widgets/controls",
            "_model_module_version": "1.5.0",
            "_model_name": "ProgressStyleModel",
            "_view_count": null,
            "_view_module": "@jupyter-widgets/base",
            "_view_module_version": "1.2.0",
            "_view_name": "StyleView",
            "bar_color": null,
            "description_width": ""
          }
        },
        "4cc1a43ccf3f4781ad01557a2b2997d4": {
          "model_module": "@jupyter-widgets/base",
          "model_name": "LayoutModel",
          "model_module_version": "1.2.0",
          "state": {
            "_model_module": "@jupyter-widgets/base",
            "_model_module_version": "1.2.0",
            "_model_name": "LayoutModel",
            "_view_count": null,
            "_view_module": "@jupyter-widgets/base",
            "_view_module_version": "1.2.0",
            "_view_name": "LayoutView",
            "align_content": null,
            "align_items": null,
            "align_self": null,
            "border": null,
            "bottom": null,
            "display": null,
            "flex": null,
            "flex_flow": null,
            "grid_area": null,
            "grid_auto_columns": null,
            "grid_auto_flow": null,
            "grid_auto_rows": null,
            "grid_column": null,
            "grid_gap": null,
            "grid_row": null,
            "grid_template_areas": null,
            "grid_template_columns": null,
            "grid_template_rows": null,
            "height": null,
            "justify_content": null,
            "justify_items": null,
            "left": null,
            "margin": null,
            "max_height": null,
            "max_width": null,
            "min_height": null,
            "min_width": null,
            "object_fit": null,
            "object_position": null,
            "order": null,
            "overflow": null,
            "overflow_x": null,
            "overflow_y": null,
            "padding": null,
            "right": null,
            "top": null,
            "visibility": null,
            "width": null
          }
        },
        "536bf23e17c3475d8974e2021bd69b3c": {
          "model_module": "@jupyter-widgets/controls",
          "model_name": "DescriptionStyleModel",
          "model_module_version": "1.5.0",
          "state": {
            "_model_module": "@jupyter-widgets/controls",
            "_model_module_version": "1.5.0",
            "_model_name": "DescriptionStyleModel",
            "_view_count": null,
            "_view_module": "@jupyter-widgets/base",
            "_view_module_version": "1.2.0",
            "_view_name": "StyleView",
            "description_width": ""
          }
        },
        "7512297368774b51ab7334b2b5cbab08": {
          "model_module": "@jupyter-widgets/controls",
          "model_name": "HBoxModel",
          "model_module_version": "1.5.0",
          "state": {
            "_dom_classes": [],
            "_model_module": "@jupyter-widgets/controls",
            "_model_module_version": "1.5.0",
            "_model_name": "HBoxModel",
            "_view_count": null,
            "_view_module": "@jupyter-widgets/controls",
            "_view_module_version": "1.5.0",
            "_view_name": "HBoxView",
            "box_style": "",
            "children": [
              "IPY_MODEL_b058eee928454fe893f7144dca0373f0",
              "IPY_MODEL_41e166a2e9834ed0b7051bab45f86454",
              "IPY_MODEL_8b279e4235f44fb19d1ee54fc20b40e4"
            ],
            "layout": "IPY_MODEL_862c72e2fe9f4337bbda6d29a8e5123a"
          }
        },
        "b058eee928454fe893f7144dca0373f0": {
          "model_module": "@jupyter-widgets/controls",
          "model_name": "HTMLModel",
          "model_module_version": "1.5.0",
          "state": {
            "_dom_classes": [],
            "_model_module": "@jupyter-widgets/controls",
            "_model_module_version": "1.5.0",
            "_model_name": "HTMLModel",
            "_view_count": null,
            "_view_module": "@jupyter-widgets/controls",
            "_view_module_version": "1.5.0",
            "_view_name": "HTMLView",
            "description": "",
            "description_tooltip": null,
            "layout": "IPY_MODEL_96be0822348a45f080d55ccd20767850",
            "placeholder": "​",
            "style": "IPY_MODEL_24a2349cb6c34b82930ab0c5135b730d",
            "value": "100%"
          }
        },
        "41e166a2e9834ed0b7051bab45f86454": {
          "model_module": "@jupyter-widgets/controls",
          "model_name": "FloatProgressModel",
          "model_module_version": "1.5.0",
          "state": {
            "_dom_classes": [],
            "_model_module": "@jupyter-widgets/controls",
            "_model_module_version": "1.5.0",
            "_model_name": "FloatProgressModel",
            "_view_count": null,
            "_view_module": "@jupyter-widgets/controls",
            "_view_module_version": "1.5.0",
            "_view_name": "ProgressView",
            "bar_style": "success",
            "description": "",
            "description_tooltip": null,
            "layout": "IPY_MODEL_eecc14fdebab46cd88cc2c83194e1bf4",
            "max": 70,
            "min": 0,
            "orientation": "horizontal",
            "style": "IPY_MODEL_c32338d374bb43f7b58ae5308e3cd235",
            "value": 70
          }
        },
        "8b279e4235f44fb19d1ee54fc20b40e4": {
          "model_module": "@jupyter-widgets/controls",
          "model_name": "HTMLModel",
          "model_module_version": "1.5.0",
          "state": {
            "_dom_classes": [],
            "_model_module": "@jupyter-widgets/controls",
            "_model_module_version": "1.5.0",
            "_model_name": "HTMLModel",
            "_view_count": null,
            "_view_module": "@jupyter-widgets/controls",
            "_view_module_version": "1.5.0",
            "_view_name": "HTMLView",
            "description": "",
            "description_tooltip": null,
            "layout": "IPY_MODEL_f98fcecd34ed4ea8878ecfb80900bae1",
            "placeholder": "​",
            "style": "IPY_MODEL_4749f1da0487407eb08846ce7484a3aa",
            "value": " 70/70 [00:13&lt;00:00,  4.92it/s]"
          }
        },
        "862c72e2fe9f4337bbda6d29a8e5123a": {
          "model_module": "@jupyter-widgets/base",
          "model_name": "LayoutModel",
          "model_module_version": "1.2.0",
          "state": {
            "_model_module": "@jupyter-widgets/base",
            "_model_module_version": "1.2.0",
            "_model_name": "LayoutModel",
            "_view_count": null,
            "_view_module": "@jupyter-widgets/base",
            "_view_module_version": "1.2.0",
            "_view_name": "LayoutView",
            "align_content": null,
            "align_items": null,
            "align_self": null,
            "border": null,
            "bottom": null,
            "display": null,
            "flex": null,
            "flex_flow": null,
            "grid_area": null,
            "grid_auto_columns": null,
            "grid_auto_flow": null,
            "grid_auto_rows": null,
            "grid_column": null,
            "grid_gap": null,
            "grid_row": null,
            "grid_template_areas": null,
            "grid_template_columns": null,
            "grid_template_rows": null,
            "height": null,
            "justify_content": null,
            "justify_items": null,
            "left": null,
            "margin": null,
            "max_height": null,
            "max_width": null,
            "min_height": null,
            "min_width": null,
            "object_fit": null,
            "object_position": null,
            "order": null,
            "overflow": null,
            "overflow_x": null,
            "overflow_y": null,
            "padding": null,
            "right": null,
            "top": null,
            "visibility": null,
            "width": null
          }
        },
        "96be0822348a45f080d55ccd20767850": {
          "model_module": "@jupyter-widgets/base",
          "model_name": "LayoutModel",
          "model_module_version": "1.2.0",
          "state": {
            "_model_module": "@jupyter-widgets/base",
            "_model_module_version": "1.2.0",
            "_model_name": "LayoutModel",
            "_view_count": null,
            "_view_module": "@jupyter-widgets/base",
            "_view_module_version": "1.2.0",
            "_view_name": "LayoutView",
            "align_content": null,
            "align_items": null,
            "align_self": null,
            "border": null,
            "bottom": null,
            "display": null,
            "flex": null,
            "flex_flow": null,
            "grid_area": null,
            "grid_auto_columns": null,
            "grid_auto_flow": null,
            "grid_auto_rows": null,
            "grid_column": null,
            "grid_gap": null,
            "grid_row": null,
            "grid_template_areas": null,
            "grid_template_columns": null,
            "grid_template_rows": null,
            "height": null,
            "justify_content": null,
            "justify_items": null,
            "left": null,
            "margin": null,
            "max_height": null,
            "max_width": null,
            "min_height": null,
            "min_width": null,
            "object_fit": null,
            "object_position": null,
            "order": null,
            "overflow": null,
            "overflow_x": null,
            "overflow_y": null,
            "padding": null,
            "right": null,
            "top": null,
            "visibility": null,
            "width": null
          }
        },
        "24a2349cb6c34b82930ab0c5135b730d": {
          "model_module": "@jupyter-widgets/controls",
          "model_name": "DescriptionStyleModel",
          "model_module_version": "1.5.0",
          "state": {
            "_model_module": "@jupyter-widgets/controls",
            "_model_module_version": "1.5.0",
            "_model_name": "DescriptionStyleModel",
            "_view_count": null,
            "_view_module": "@jupyter-widgets/base",
            "_view_module_version": "1.2.0",
            "_view_name": "StyleView",
            "description_width": ""
          }
        },
        "eecc14fdebab46cd88cc2c83194e1bf4": {
          "model_module": "@jupyter-widgets/base",
          "model_name": "LayoutModel",
          "model_module_version": "1.2.0",
          "state": {
            "_model_module": "@jupyter-widgets/base",
            "_model_module_version": "1.2.0",
            "_model_name": "LayoutModel",
            "_view_count": null,
            "_view_module": "@jupyter-widgets/base",
            "_view_module_version": "1.2.0",
            "_view_name": "LayoutView",
            "align_content": null,
            "align_items": null,
            "align_self": null,
            "border": null,
            "bottom": null,
            "display": null,
            "flex": null,
            "flex_flow": null,
            "grid_area": null,
            "grid_auto_columns": null,
            "grid_auto_flow": null,
            "grid_auto_rows": null,
            "grid_column": null,
            "grid_gap": null,
            "grid_row": null,
            "grid_template_areas": null,
            "grid_template_columns": null,
            "grid_template_rows": null,
            "height": null,
            "justify_content": null,
            "justify_items": null,
            "left": null,
            "margin": null,
            "max_height": null,
            "max_width": null,
            "min_height": null,
            "min_width": null,
            "object_fit": null,
            "object_position": null,
            "order": null,
            "overflow": null,
            "overflow_x": null,
            "overflow_y": null,
            "padding": null,
            "right": null,
            "top": null,
            "visibility": null,
            "width": null
          }
        },
        "c32338d374bb43f7b58ae5308e3cd235": {
          "model_module": "@jupyter-widgets/controls",
          "model_name": "ProgressStyleModel",
          "model_module_version": "1.5.0",
          "state": {
            "_model_module": "@jupyter-widgets/controls",
            "_model_module_version": "1.5.0",
            "_model_name": "ProgressStyleModel",
            "_view_count": null,
            "_view_module": "@jupyter-widgets/base",
            "_view_module_version": "1.2.0",
            "_view_name": "StyleView",
            "bar_color": null,
            "description_width": ""
          }
        },
        "f98fcecd34ed4ea8878ecfb80900bae1": {
          "model_module": "@jupyter-widgets/base",
          "model_name": "LayoutModel",
          "model_module_version": "1.2.0",
          "state": {
            "_model_module": "@jupyter-widgets/base",
            "_model_module_version": "1.2.0",
            "_model_name": "LayoutModel",
            "_view_count": null,
            "_view_module": "@jupyter-widgets/base",
            "_view_module_version": "1.2.0",
            "_view_name": "LayoutView",
            "align_content": null,
            "align_items": null,
            "align_self": null,
            "border": null,
            "bottom": null,
            "display": null,
            "flex": null,
            "flex_flow": null,
            "grid_area": null,
            "grid_auto_columns": null,
            "grid_auto_flow": null,
            "grid_auto_rows": null,
            "grid_column": null,
            "grid_gap": null,
            "grid_row": null,
            "grid_template_areas": null,
            "grid_template_columns": null,
            "grid_template_rows": null,
            "height": null,
            "justify_content": null,
            "justify_items": null,
            "left": null,
            "margin": null,
            "max_height": null,
            "max_width": null,
            "min_height": null,
            "min_width": null,
            "object_fit": null,
            "object_position": null,
            "order": null,
            "overflow": null,
            "overflow_x": null,
            "overflow_y": null,
            "padding": null,
            "right": null,
            "top": null,
            "visibility": null,
            "width": null
          }
        },
        "4749f1da0487407eb08846ce7484a3aa": {
          "model_module": "@jupyter-widgets/controls",
          "model_name": "DescriptionStyleModel",
          "model_module_version": "1.5.0",
          "state": {
            "_model_module": "@jupyter-widgets/controls",
            "_model_module_version": "1.5.0",
            "_model_name": "DescriptionStyleModel",
            "_view_count": null,
            "_view_module": "@jupyter-widgets/base",
            "_view_module_version": "1.2.0",
            "_view_name": "StyleView",
            "description_width": ""
          }
        }
      }
    }
  },
  "cells": [
    {
      "cell_type": "code",
      "execution_count": null,
      "metadata": {
        "id": "s3nvrCzW-W_3"
      },
      "outputs": [],
      "source": [
        "!pip install diffusers transformers accelerate torch safetensors peft timm opencv-python"
      ]
    },
    {
      "cell_type": "code",
      "source": [
        "from diffusers import StableDiffusionXLPipeline, StableDiffusionXLControlNetPipeline, StableDiffusionXLImg2ImgPipeline\n",
        "import torch\n",
        "from PIL import Image\n",
        "import matplotlib.pyplot as plt\n",
        "import numpy as np\n",
        "import cv2"
      ],
      "metadata": {
        "id": "Loa-gewV-bEg"
      },
      "execution_count": null,
      "outputs": []
    },
    {
      "cell_type": "code",
      "source": [
        "# Load txt2img pipe\n",
        "model_id = \"stabilityai/stable-diffusion-xl-base-1.0\"\n",
        "txt2img_pipe = StableDiffusionXLPipeline.from_pretrained(\n",
        "    model_id,\n",
        "    torch_dtype=torch.bfloat16,\n",
        "    use_safetensors=True,\n",
        "    )\n",
        "\n",
        "# Load the LoRA weights\n",
        "lora_weights_path = \"/content/pytorch_lora_weights.safetensors\"\n",
        "txt2img_pipe.load_lora_weights(lora_weights_path)\n",
        "\n",
        "txt2img_pipe.to(\"cuda\")"
      ],
      "metadata": {
        "id": "VgcU72aU-d-o"
      },
      "execution_count": null,
      "outputs": []
    },
    {
      "cell_type": "code",
      "source": [
        "seed = 123\n",
        "generator = torch.manual_seed(seed)"
      ],
      "metadata": {
        "id": "zpix-ejB_QTn"
      },
      "execution_count": 4,
      "outputs": []
    },
    {
      "cell_type": "code",
      "source": [
        "# Define the text prompt\n",
        "txt2img_prompt = (\n",
        "    \"photo of sks character wearing only t-shirt, sks face, wearing no jacket, jeans, no watch, sitting in restaurant, \"\n",
        "    \"zoomed out, happy, sitting down at table, detailed background, \"\n",
        "    \"modern cartoon style, cartoon style, full-body, \"\n",
        "    \"detailed character design, high quality background, good anatomy,\"\n",
        "\n",
        ")\n",
        "\n",
        "txt2img_negative_prompt = (\n",
        "    \"low-quality, blurry, deformed, disfigured, extra limbs, extra fingers,\"\n",
        "    \"cropped, watermark, text, signature, nsfw, bad anatomy, unnatural proportions, \"\n",
        "    \"distorted face, closed eyes, sad expression, outdated style, monochrome, \"\n",
        "    \"overexposed, underexposed, grainy, pixelated, poor lighting, artifacts, \"\n",
        "    \"duplicate, ugly, tiling, mutated hands, long neck, disconnected limbs, multiple characters, \"\n",
        "    \"bad eyes, realistic, glasses, plain background, monochrome\"\n",
        "    )\n",
        "\n",
        "\n",
        "# Pass both the text and the IP adapter image to the pipeline\n",
        "with torch.no_grad():\n",
        "  initial_img = txt2img_pipe(prompt=txt2img_prompt,\n",
        "                              negative_prompt=txt2img_negative_prompt,\n",
        "                              generator=generator,\n",
        "                              num_inference_steps=75,\n",
        "                              num_images_per_prompt=3,\n",
        "                              height=1024,\n",
        "                              width=1024,\n",
        "                              guidance_scale=10.5).images[0]\n",
        "\n",
        "# Display Generated Image\n",
        "plt.imshow(initial_img)\n",
        "plt.axis(\"off\")\n",
        "plt.show()"
      ],
      "metadata": {
        "colab": {
          "base_uri": "https://localhost:8080/",
          "height": 49,
          "referenced_widgets": [
            "87648704817d42c19762ce7f9357110c",
            "d92fe41277e148498128340110854176",
            "37c17d9ed87a4993a68c72c529291317",
            "f2de9105f6e24a44837a1a384d042436",
            "36326a63daee47bc9bdd5f8d79da2e1f",
            "b37ff301ed2a4ab5b3a9d32183a684c4",
            "842799a0f0e1460d9f4002e696953132",
            "4a338f2110ac4f739438013e863abf20",
            "e067ac327e0047fdab221a81af6614b6",
            "5729383ac7724803911f2a7176a6c1e1",
            "b4318b0a258d4f1d809a5a203a7bf1e4"
          ]
        },
        "id": "8VtAGzDw--Vw",
        "outputId": "c5129f11-0aa5-4600-df53-039aa360660e"
      },
      "execution_count": 66,
      "outputs": [
        {
          "output_type": "display_data",
          "data": {
            "text/plain": [
              "  0%|          | 0/75 [00:00<?, ?it/s]"
            ],
            "application/vnd.jupyter.widget-view+json": {
              "version_major": 2,
              "version_minor": 0,
              "model_id": "87648704817d42c19762ce7f9357110c"
            }
          },
          "metadata": {}
        }
      ]
    },
    {
      "cell_type": "code",
      "source": [
        "# Optionally save initial image\n",
        "# initial_img.save(\"initial_image.png\")"
      ],
      "metadata": {
        "id": "5Y8uqdhoJVn5"
      },
      "execution_count": null,
      "outputs": []
    },
    {
      "cell_type": "code",
      "source": [
        "from transformers import AutoProcessor, AutoModelForZeroShotObjectDetection\n",
        "\n",
        "model_id = \"IDEA-Research/grounding-dino-tiny\"\n",
        "device = \"cuda\"\n",
        "\n",
        "detector_processor = AutoProcessor.from_pretrained(model_id)\n",
        "detector = AutoModelForZeroShotObjectDetection.from_pretrained(model_id).to(device)"
      ],
      "metadata": {
        "id": "mVgSM9aV-jzM"
      },
      "execution_count": 67,
      "outputs": []
    },
    {
      "cell_type": "code",
      "source": [
        "text = \"clothing.\"\n",
        "\n",
        "inputs = detector_processor(images=initial_img, text=text, return_tensors=\"pt\").to(device)\n",
        "with torch.no_grad():\n",
        "    outputs = detector(**inputs)\n",
        "\n",
        "results = detector_processor.post_process_grounded_object_detection(\n",
        "    outputs,\n",
        "    inputs.input_ids,\n",
        "    box_threshold=0.4,\n",
        "    text_threshold=0.3,\n",
        "    target_sizes=[initial_img.size[::-1]]\n",
        ")\n",
        "print(results)"
      ],
      "metadata": {
        "colab": {
          "base_uri": "https://localhost:8080/"
        },
        "id": "KTQD4epY-vi1",
        "outputId": "6bff5b6d-830d-4115-baac-6060f579fad7"
      },
      "execution_count": 77,
      "outputs": [
        {
          "output_type": "stream",
          "name": "stdout",
          "text": [
            "[{'scores': tensor([0.4365], device='cuda:0'), 'labels': ['clothing'], 'boxes': tensor([[225.4590, 106.6570, 783.9850, 867.3058]], device='cuda:0')}]\n"
          ]
        }
      ]
    },
    {
      "cell_type": "code",
      "source": [
        "from transformers import AutoModelForMaskGeneration\n",
        "\n",
        "# Define the SAM model and processor\n",
        "segmenter_id = \"facebook/sam-vit-huge\"\n",
        "segmentator = AutoModelForMaskGeneration.from_pretrained(segmenter_id).to(\"cuda\")\n",
        "segmentator_processor = AutoProcessor.from_pretrained(segmenter_id)\n",
        "\n",
        "# Extract bounding boxes and normalize them for SAM\n",
        "boxes = []\n",
        "image_width, image_height = initial_img.size\n",
        "for r in results:\n",
        "    for box in r['boxes']:\n",
        "        normalized_box = [\n",
        "            box[0] ,  # xmin\n",
        "            box[1] ,  # ymin\n",
        "            box[2] ,  # xmax\n",
        "            box[3]    # ymax\n",
        "        ]\n",
        "        boxes.append(normalized_box)\n",
        "\n",
        "boxes = torch.Tensor(boxes).cpu().numpy()\n",
        "boxes = [[list(map(float, box)) for box in boxes]]\n",
        "print(boxes)\n",
        "# Use SAM with the extracted bounding boxes\n",
        "inputs_sam = segmentator_processor(images=initial_img, input_boxes=[boxes], return_tensors=\"pt\").to(\"cuda\")\n",
        "\n",
        "with torch.no_grad():\n",
        "    outputs_sam = segmentator(**inputs_sam)\n",
        "\n",
        "# Display the segmentation mask\n",
        "mask = outputs_sam.pred_masks.squeeze().cpu().numpy()\n",
        "print(mask.shape)"
      ],
      "metadata": {
        "colab": {
          "base_uri": "https://localhost:8080/"
        },
        "id": "qncTbiI0_bxV",
        "outputId": "2dcad5d0-d955-4cc5-fb21-f94eeb81d4c2"
      },
      "execution_count": 78,
      "outputs": [
        {
          "output_type": "stream",
          "name": "stdout",
          "text": [
            "[[[225.45895385742188, 106.65701293945312, 783.9849853515625, 867.3057861328125]]]\n",
            "(3, 256, 256)\n"
          ]
        }
      ]
    },
    {
      "cell_type": "code",
      "source": [
        "mask_binary = cv2.resize(mask.transpose(1,2,0), (1024, 1024), interpolation=cv2.INTER_NEAREST)\n",
        "mask_binary = np.max(mask_binary, axis=2).astype(np.uint8)\n",
        "\n",
        "print(mask_binary.shape)\n",
        "mask_binary = 255 - mask_binary\n",
        "# Convert the mask to a PIL image (single channel, 'L' mode for luminance)\n",
        "clothing_mask_image = Image.fromarray(mask_binary, mode='L')"
      ],
      "metadata": {
        "colab": {
          "base_uri": "https://localhost:8080/"
        },
        "id": "D5KU5uxU_hqc",
        "outputId": "fdd41824-64f8-46d4-fd1b-50d80440fc85"
      },
      "execution_count": 79,
      "outputs": [
        {
          "output_type": "stream",
          "name": "stdout",
          "text": [
            "(1024, 1024)\n"
          ]
        }
      ]
    },
    {
      "cell_type": "code",
      "source": [
        "# Optionally save mask\n",
        "# clothing_mask_image.save(\"clothing_mask.png\")"
      ],
      "metadata": {
        "id": "8hsogyi0FPfC"
      },
      "execution_count": 72,
      "outputs": []
    },
    {
      "cell_type": "code",
      "source": [
        "# Delete from memory if necessary\n",
        "# del segmentator_processor, segmentator, detector_processor, detector"
      ],
      "metadata": {
        "id": "0BFqwdX2B2MK"
      },
      "execution_count": 195,
      "outputs": []
    },
    {
      "cell_type": "code",
      "source": [
        "import gc\n",
        "torch.cuda.empty_cache()\n",
        "gc.collect()"
      ],
      "metadata": {
        "colab": {
          "base_uri": "https://localhost:8080/"
        },
        "id": "1TSSuLFqBw-V",
        "outputId": "503fafe7-edee-4abb-c762-0d0e841cbf5b"
      },
      "execution_count": 80,
      "outputs": [
        {
          "output_type": "execute_result",
          "data": {
            "text/plain": [
              "106"
            ]
          },
          "metadata": {},
          "execution_count": 80
        }
      ]
    },
    {
      "cell_type": "code",
      "source": [
        "from diffusers import StableDiffusionXLControlNetInpaintPipeline, ControlNetModel, StableDiffusionXLInpaintPipeline\n",
        "import torch\n",
        "\n",
        "outfit_pipe = StableDiffusionXLInpaintPipeline.from_pretrained(\n",
        "    \"stabilityai/stable-diffusion-xl-base-1.0\",\n",
        "    torch_dtype=torch.bfloat16,\n",
        "    use_safetensors=True\n",
        ").to(\"cuda\")\n",
        "\n",
        "# Load your LoRA weights\n",
        "lora_weights = \"/content/pytorch_lora_weights.safetensors\"\n",
        "outfit_pipe.load_lora_weights(lora_weights)\n",
        "\n",
        "# Load IP adapter\n",
        "outfit_pipe.load_ip_adapter(\"h94/IP-Adapter\", subfolder=\"sdxl_models\", weight_name=\"ip-adapter_sdxl.bin\")\n",
        "# scale = 0.3\n",
        "scale = {\n",
        "    \"down\": {\"block_2\": [0.0, 1.0]},\n",
        "    \"up\": {\"block_0\": [0.0, 1.0, 0.0]},\n",
        "}\n",
        "outfit_pipe.set_ip_adapter_scale(scale)\n",
        "\n",
        "# Now load the IP Adapter image\n",
        "ip_adapter_image = Image.open(\"/content/outfit_4.png\")  # Outfit control image\n",
        "\n",
        "inpainting_prompt = (\n",
        "    \"photo of sks character wearing only black shirt and no hat, \"\n",
        "    \"modern cartoon style, happy,\"\n",
        "    \"wearing only t-shirt, wearing only plain t-shirt, wearing only simple t-shirt, connected body parts \"\n",
        "    \"jeans, white shoes, good anatomy, show waist and up\"\n",
        "    \"good face, fit borders, smooth edges, detailed character design\"\n",
        ")\n",
        "\n",
        "inpainting_negative_prompt = (\n",
        "    \"low-quality, blurry, deformed, disfigured, extra limbs, extra fingers,\"\n",
        "    \"cropped, watermark, text, signature, nsfw, bad anatomy, unnatural proportions, \"\n",
        "    \"distorted face, closed eyes, outdated style, monochrome, \"\n",
        "    \"overexposed, underexposed, grainy, pixelated, poor lighting, artifacts, \"\n",
        "    \"duplicate, ugly, tiling, mutated hands, long neck, disconnected limbs, multiple characters, bad eyes\"\n",
        "    \"jacket, coat, sweater, blazer, outerwear, wearing hat\"\n",
        "    )\n",
        "\n",
        "# Perform inpainting\n",
        "with torch.no_grad():\n",
        "  output_image = outfit_pipe(\n",
        "      prompt=txt2img_prompt + \"wearing black t-shirt\",\n",
        "      num_inference_steps=100,\n",
        "      generator=generator,\n",
        "      image=initial_img,\n",
        "      mask_image=clothing_mask_image,\n",
        "      ip_adapter_image=ip_adapter_image,\n",
        "      strength = 0.7,\n",
        "      height=1024,\n",
        "      width=1024,\n",
        "      guidance_scale=10.5,\n",
        "      negative_prompt=inpainting_negative_prompt,\n",
        "  ).images[0]\n",
        "\n",
        "# Save or display the result\n",
        "output_image.save(\"output_character_in_outfit.png\")\n",
        "\n",
        "plt.imshow(output_image)\n",
        "plt.axis(\"off\")\n",
        "plt.show()\n"
      ],
      "metadata": {
        "colab": {
          "base_uri": "https://localhost:8080/",
          "height": 81,
          "referenced_widgets": [
            "69b58129696c4f65acdc20f778d68699",
            "121ec87f94ad4bad81e4b2c940334fe2",
            "be9a30bf84354f56a43298db1a51ce7b",
            "fafa74d0cb0e4c14a51e87c16e80bc7c",
            "1e3d4bfe0e1e4e49a612887b03e2a2cd",
            "e8306cb52fb84492a46842283fa71000",
            "efab893bc1cf496cb3258e58109445f2",
            "4af93ff9cd9144d984e157565504db52",
            "27967612439449faba7e277131ca0ace",
            "4cc1a43ccf3f4781ad01557a2b2997d4",
            "536bf23e17c3475d8974e2021bd69b3c",
            "7512297368774b51ab7334b2b5cbab08",
            "b058eee928454fe893f7144dca0373f0",
            "41e166a2e9834ed0b7051bab45f86454",
            "8b279e4235f44fb19d1ee54fc20b40e4",
            "862c72e2fe9f4337bbda6d29a8e5123a",
            "96be0822348a45f080d55ccd20767850",
            "24a2349cb6c34b82930ab0c5135b730d",
            "eecc14fdebab46cd88cc2c83194e1bf4",
            "c32338d374bb43f7b58ae5308e3cd235",
            "f98fcecd34ed4ea8878ecfb80900bae1",
            "4749f1da0487407eb08846ce7484a3aa"
          ]
        },
        "id": "S3Hq9A5z_vOh",
        "outputId": "3517b357-1261-41bb-bc0c-064d2de54a1e"
      },
      "execution_count": 129,
      "outputs": [
        {
          "output_type": "display_data",
          "data": {
            "text/plain": [
              "Loading pipeline components...:   0%|          | 0/7 [00:00<?, ?it/s]"
            ],
            "application/vnd.jupyter.widget-view+json": {
              "version_major": 2,
              "version_minor": 0,
              "model_id": "69b58129696c4f65acdc20f778d68699"
            }
          },
          "metadata": {}
        },
        {
          "output_type": "display_data",
          "data": {
            "text/plain": [
              "  0%|          | 0/70 [00:00<?, ?it/s]"
            ],
            "application/vnd.jupyter.widget-view+json": {
              "version_major": 2,
              "version_minor": 0,
              "model_id": "7512297368774b51ab7334b2b5cbab08"
            }
          },
          "metadata": {}
        }
      ]
    }
  ]
}