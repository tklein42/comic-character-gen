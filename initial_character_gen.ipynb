{
  "cells": [
    {
      "cell_type": "markdown",
      "metadata": {
        "id": "TrneJIM7H1TN"
      },
      "source": [
        "# Imports"
      ]
    },
    {
      "cell_type": "code",
      "execution_count": null,
      "metadata": {
        "collapsed": true,
        "id": "Cu3XDEPaH5sN"
      },
      "outputs": [],
      "source": [
        "# Install required libraries\n",
        "!pip install diffusers transformers accelerate\n",
        "!pip install opencv-python\n",
        "!pip install controlnet-aux\n",
        "!pip install datasets\n",
        "!pip install peft"
      ]
    },
    {
      "cell_type": "code",
      "execution_count": null,
      "metadata": {
        "id": "UsVGz9zMM_Dk"
      },
      "outputs": [],
      "source": [
        "import torch\n",
        "import os\n",
        "from PIL import Image\n",
        "import matplotlib.pyplot as plt"
      ]
    },
    {
      "cell_type": "code",
      "execution_count": null,
      "metadata": {
        "colab": {
          "base_uri": "https://localhost:8080/"
        },
        "id": "a-mEO3DjM2Pb",
        "outputId": "ed1e29ba-d35e-4fe3-b40e-1f6ccd50a4ab"
      },
      "outputs": [
        {
          "name": "stdout",
          "output_type": "stream",
          "text": [
            "Folders created: 'character_data' and 'character_poses'\n"
          ]
        }
      ],
      "source": [
        "# Create directories for storing data\n",
        "os.makedirs(\"comic_character\", exist_ok=True)\n",
        "os.makedirs(\"comic_character/character_data\", exist_ok=True)\n",
        "\n",
        "print(\"Folder created: 'character_data'\")\n"
      ]
    },
    {
      "cell_type": "markdown",
      "metadata": {
        "id": "xhXguPpCH6ZH"
      },
      "source": [
        "# Initial Character Generation"
      ]
    },
    {
      "cell_type": "code",
      "execution_count": null,
      "metadata": {
        "id": "GxKKJm8pezBf"
      },
      "outputs": [],
      "source": [
        "from diffusers import StableDiffusionXLPipeline"
      ]
    },
    {
      "cell_type": "code",
      "execution_count": null,
      "metadata": {
        "id": "BWE-OVL9y4VJ"
      },
      "outputs": [],
      "source": [
        "from diffusers.utils import load_image"
      ]
    },
    {
      "cell_type": "code",
      "execution_count": null,
      "metadata": {
        "id": "Sod-DpAyGuov"
      },
      "outputs": [],
      "source": [
        "# Initialize seed\n",
        "seed = 123\n",
        "generator = torch.manual_seed(seed)"
      ]
    },
    {
      "cell_type": "code",
      "execution_count": null,
      "metadata": {
        "collapsed": true,
        "id": "MVReqTC0H-Yn"
      },
      "outputs": [],
      "source": [
        "# Load the SDXL model from Hugging Face\n",
        "model_id = \"stabilityai/stable-diffusion-xl-base-1.0\"\n",
        "pipe = StableDiffusionXLPipeline.from_pretrained(\n",
        "    model_id,\n",
        "    torch_dtype=torch.bfloat16,\n",
        "    use_safetensors=True,\n",
        "    )\n",
        "pipe = pipe.to(\"cuda\")"
      ]
    },
    {
      "cell_type": "code",
      "execution_count": null,
      "metadata": {
        "id": "MRAbp3QC9-d0"
      },
      "outputs": [],
      "source": [
        "# Positive Prompt\n",
        "character_traits = \"tall man, named Leonardo, emerald green eyes, short silver hair, modern cartoon style\"\n",
        "\n",
        "outfit_traits = \"white t-shirt, blue jeans, white shoes, and brown leather jacket\"\n",
        "\n",
        "background_traits = \"full-body, high-resolution, sharp lines, clean shading, \\\n",
        " detailed character design, high quality, good anatomy, plain light grey background, consistent\"\n",
        "\n",
        "expression_traits = \"running, excited, smiling\"\n",
        "\n",
        "prompt = f\"{character_traits}, {outfit_traits}, {background_traits}, {expression_traits}\""
      ]
    },
    {
      "cell_type": "code",
      "execution_count": null,
      "metadata": {
        "id": "UbvrJqYfhxa4"
      },
      "outputs": [],
      "source": [
        "# Negative Prompt\n",
        "negative_prompt = (\n",
        "    \"low-quality, blurry, deformed, disfigured, extra limbs, extra fingers,\"\n",
        "    \"cropped, watermark, text, signature, nsfw, bad anatomy, unnatural proportions, \"\n",
        "    \"distorted face, closed eyes, sad expression, outdated style, monochrome, \"\n",
        "    \"overexposed, underexposed, grainy, pixelated, poor lighting, artifacts, \"\n",
        "    \"duplicate, ugly, tiling, mutated hands, long neck, disconnected limbs, multiple characters, bad eyes\"\n",
        ")"
      ]
    },
    {
      "cell_type": "code",
      "execution_count": null,
      "metadata": {
        "id": "fXeATwbCWrBD"
      },
      "outputs": [],
      "source": [
        "# Initial image generation\n",
        "image = pipe(prompt=prompt,\n",
        "             negative_prompt=negative_prompt,\n",
        "             generator=generator,\n",
        "             height=1024,\n",
        "             width=1024,\n",
        "             guidance_scale=10.5,\n",
        "             num_images_per_prompt=4).images\n",
        "\n",
        "# Save and display image\n",
        "for i, img in enumerate(image):\n",
        "  img.save(f\"character-scene1-{i}\")\n",
        "\n",
        "  plt.imshow(img)\n",
        "  plt.axis(\"off\")\n",
        "  plt.show()"
      ]
    }
  ],
  "metadata": {
    "accelerator": "GPU",
    "colab": {
      "gpuType": "A100",
      "machine_shape": "hm",
      "provenance": []
    },
    "kernelspec": {
      "display_name": "Python 3",
      "name": "python3"
    },
    "language_info": {
      "name": "python"
    }
  },
  "nbformat": 4,
  "nbformat_minor": 0
}
