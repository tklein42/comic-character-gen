{
  "cells": [
    {
      "cell_type": "code",
      "execution_count": null,
      "metadata": {
        "collapsed": true,
        "id": "ARnkE10A6taF"
      },
      "outputs": [],
      "source": [
        "!pip install diffusers transformers accelerate torch safetensors peft timm opencv-python"
      ]
    },
    {
      "cell_type": "code",
      "execution_count": null,
      "metadata": {
        "id": "XEVftUEe76hq"
      },
      "outputs": [],
      "source": [
        "from diffusers import StableDiffusionXLPipeline\n",
        "import torch\n",
        "from PIL import Image\n",
        "import matplotlib.pyplot as plt"
      ]
    },
    {
      "cell_type": "code",
      "execution_count": null,
      "metadata": {
        "id": "Ar3VmerQ77P8"
      },
      "outputs": [],
      "source": [
        "# Load txt2img pipe\n",
        "model_id = \"stabilityai/stable-diffusion-xl-base-1.0\"\n",
        "txt2img_pipe = StableDiffusionXLPipeline.from_pretrained(\n",
        "    model_id,\n",
        "    torch_dtype=torch.bfloat16,\n",
        "    use_safetensors=True,\n",
        "    )\n",
        "\n",
        "# Load the LoRA weights\n",
        "lora_weights_path = \"/content/pytorch_lora_weights.safetensors\"\n",
        "txt2img_pipe.load_lora_weights(lora_weights_path)\n",
        "\n",
        "txt2img_pipe.to(\"cuda\")"
      ]
    },
    {
      "cell_type": "code",
      "execution_count": null,
      "metadata": {
        "id": "cdwI5msmS1X_"
      },
      "outputs": [],
      "source": [
        "# Load IP-Adapter\n",
        "txt2img_pipe.load_ip_adapter(\"h94/IP-Adapter\", subfolder=\"sdxl_models\", weight_name=\"ip-adapter_sdxl.bin\")"
      ]
    },
    {
      "cell_type": "code",
      "execution_count": null,
      "metadata": {
        "id": "mD1jEvlUabkK"
      },
      "outputs": [],
      "source": [
        "scale = {\n",
        "    \"down\": {\"block_2\": [0.0, 0.4]}, # Layout\n",
        "    \"up\": {\"block_0\": [0.0, 0.85, 0.0]}, # Style\n",
        "}\n",
        "txt2img_pipe.set_ip_adapter_scale(scale)"
      ]
    },
    {
      "cell_type": "code",
      "execution_count": null,
      "metadata": {
        "id": "bWcjJ5C8a4Ko"
      },
      "outputs": [],
      "source": [
        "outfit = Image.open(\"/content/outfit_2.png\")"
      ]
    },
    {
      "cell_type": "code",
      "execution_count": null,
      "metadata": {
        "id": "fIjnAowGf4AW"
      },
      "outputs": [],
      "source": [
        "# Generate seed for reproducability\n",
        "seed = 123  # You can choose any integer as the seed\n",
        "generator = torch.manual_seed(seed)"
      ]
    },
    {
      "cell_type": "code",
      "execution_count": null,
      "metadata": {
        "id": "_0ycD0lVSNEZ"
      },
      "outputs": [],
      "source": [
        "# Define the prompts\n",
        "prompt = (\n",
        "    \"portrait of sks character looking to the right, sks face, white skin, sitting on log, moon and stars, \"\n",
        "    \"zoomed out, neutral expression, looking at campfire, in the middle of a field with tall grass, detailed background, \"\n",
        "    \"modern cartoon style, cartoon style, full-body, white t-shirt under jacket with no hood \"\n",
        "    \"detailed character design, high quality background, good anatomy,\"\n",
        "\n",
        ")\n",
        "\n",
        "negative_prompt = (\n",
        "    \"low-quality, blurry, deformed, disfigured, extra limbs, extra fingers,\"\n",
        "    \"cropped, watermark, text, signature, nsfw, bad anatomy, unnatural proportions, \"\n",
        "    \"distorted face, closed eyes, sad expression, outdated style, monochrome, \"\n",
        "    \"overexposed, underexposed, grainy, pixelated, poor lighting, artifacts, \"\n",
        "    \"duplicate, ugly, tiling, mutated hands, long neck, disconnected limbs, multiple characters, \"\n",
        "    \"bad eyes, realistic, glasses, plain background, monochrome\"\n",
        "    )"
      ]
    },
    {
      "cell_type": "code",
      "execution_count": null,
      "metadata": {
        "id": "6ZovGEUTaoOg"
      },
      "outputs": [],
      "source": [
        "# Pass both the text and the IP adapter image to the pipeline\n",
        "output_image = txt2img_pipe(prompt=prompt,\n",
        "                            negative_prompt=negative_prompt,\n",
        "                            ip_adapter_image=outfit,\n",
        "                            generator=generator,\n",
        "                            num_inference_steps=75,\n",
        "                            num_images_per_prompt=3,\n",
        "                            height=1024,\n",
        "                            width=1024,\n",
        "                            guidance_scale=10.5)#.images[0]\n",
        "\n",
        "# Print and Save Images\n",
        "for i, img in enumerate(output_image.images):\n",
        "    img.save(f\"generated-image-{i}.png\")\n",
        "\n",
        "    plt.imshow(img)\n",
        "    plt.axis(\"off\")\n",
        "    plt.show()"
      ]
    }
  ],
  "metadata": {
    "accelerator": "GPU",
    "colab": {
      "gpuType": "A100",
      "machine_shape": "hm",
      "provenance": []
    },
    "kernelspec": {
      "display_name": "Python 3",
      "name": "python3"
    },
    "language_info": {
      "name": "python"
    }
  },
  "nbformat": 4,
  "nbformat_minor": 0
}
